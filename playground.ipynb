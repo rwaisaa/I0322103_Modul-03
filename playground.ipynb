{
 "cells": [
  {
   "attachments": {},
   "cell_type": "markdown",
   "metadata": {},
   "source": [
    "### Instruksi:\n",
    "1. Buka buku Learn Python 3 The Hard Way.\n",
    "2. Di bawah ini ada Example dari beberapa Bab yang memuat Operator.\n",
    "3. Silakan kalian bisa latihan dengan melakukan dari yang diinstruksikan pada bagian \"Study Drill\" yang ada di bawah Example\n",
    "4. Bisa dibaca-baca bukunya agar mendapatkan wawasan lebih dari apa yang asisten berikan"
   ]
  },
  {
   "attachments": {},
   "cell_type": "markdown",
   "metadata": {},
   "source": [
    " "
   ]
  },
  {
   "attachments": {},
   "cell_type": "markdown",
   "metadata": {},
   "source": [
    "3: Numbers and Math"
   ]
  },
  {
   "cell_type": "code",
   "execution_count": 1,
   "metadata": {},
   "outputs": [
    {
     "name": "stdout",
     "output_type": "stream",
     "text": [
      "I will now count my chickens:\n",
      "Hens 30.0\n",
      "Roosters 97\n",
      "Now I will count the eggs:\n",
      "6.75\n",
      "Is it true that 3 + 2 < 5 - 7?\n",
      "False\n",
      "What is 3 + 2? 5\n",
      "What is 5 - 7? -2\n",
      "Oh, that's why it's False.\n",
      "How about some more.\n",
      "Is it greater? True\n",
      "Is it greater or equal? True\n",
      "Is it less or equal? False\n"
     ]
    }
   ],
   "source": [
    "# ex3: Numbers and Math\n",
    "\n",
    "print(\"I will now count my chickens:\")\n",
    "\n",
    "print(\"Hens\", 25 + 30 / 6)\n",
    "print(\"Roosters\", 100 -25 * 3 % 4)\n",
    "\n",
    "print(\"Now I will count the eggs:\")\n",
    "\n",
    "print(3 + 2 + 1 - 5 + 4 % 2 - 1 / 4 + 6)\n",
    "\n",
    "print(\"Is it true that 3 + 2 < 5 - 7?\")\n",
    "\n",
    "print(3 + 2 < 5 - 7)\n",
    "\n",
    "print(\"What is 3 + 2?\", 3 + 2)\n",
    "\n",
    "print(\"What is 5 - 7?\", 5 - 7)\n",
    "\n",
    "print(\"Oh, that's why it's False.\")\n",
    "\n",
    "print(\"How about some more.\")\n",
    "\n",
    "print(\"Is it greater?\", 5 > -2)\n",
    "print(\"Is it greater or equal?\", 5 >= -2)\n",
    "print(\"Is it less or equal?\", 5 <= -2)"
   ]
  },
  {
   "cell_type": "code",
   "execution_count": 1,
   "metadata": {},
   "outputs": [
    {
     "name": "stdout",
     "output_type": "stream",
     "text": [
      "I will now count my chickens:\n",
      "Hens 30.0\n",
      "Roosters 97\n",
      "Now I will count the eggs:\n",
      "6.75\n",
      "Is it true that 3 + 2 < 5 - 7?\n",
      "False\n",
      "What is 3 + 2? 5\n",
      "What is 5 - 7? -2\n",
      "Oh, that's why it's False.\n",
      "How about some more.\n",
      "Is it greater? True\n",
      "Is it greater or equal? True\n",
      "Is it less or equal? False\n"
     ]
    }
   ],
   "source": [
    "# Kerjakan Study Drill 3) di sini\n",
    "#mem-print tulisan \"I will now count my chikens:\"\n",
    "print(\"I will now count my chickens:\")\n",
    "#mem-print jumlah ayam betina dengan rumus 25+30/6\n",
    "print(\"Hens\", 25 + 30 / 6)\n",
    "#mem-print jumlah ayam jantan dengan rumus 100-25*3%4\n",
    "print(\"Roosters\", 100 -25 * 3 % 4)\n",
    "#mem-print tulisan \"Now I will count the eggs:\"\n",
    "print(\"Now I will count the eggs:\")\n",
    "#mem-print jumlah telur dengan rumus 3+2+1-5+4%2-1/4+6\n",
    "print(3 + 2 + 1 - 5 + 4 % 2 - 1 / 4 + 6)\n",
    "#mem-print apakah benar bahwa 3+2 < 5-7\n",
    "print(\"Is it true that 3 + 2 < 5 - 7?\")\n",
    "#mem-print hasil dari pertanyaan di atas\n",
    "print(3 + 2 < 5 - 7)\n",
    "#mem-print berapa 3+2? dilanjutkan dengan jawaban dari pertanyaan \n",
    "print(\"What is 3 + 2?\", 3 + 2)\n",
    "#mem-print berapa 5-7? dilanjutkan dengan jawaban dari pertanyaan\n",
    "print(\"What is 5 - 7?\", 5 - 7)\n",
    "#mem-print tulisan \"Oh, that's why it's false.\"\n",
    "print(\"Oh, that's why it's False.\")\n",
    "#mem-print tulisan \"How about some more.\"\n",
    "print(\"How about some more.\")\n",
    "#mem-print dan menanyakan apakah 5 lebih besar dari -2?\n",
    "print(\"Is it greater?\", 5 > -2)\n",
    "#mem-print dan menanyakan apakah 5 lebih besar atau sama dengan dengan -2?\n",
    "print(\"Is it greater or equal?\", 5 >= -2)\n",
    "#mem-print dan menanyakan apakah 5 lebih kecil atau sama dengan -2?\n",
    "print(\"Is it less or equal?\", 5 <= -2)"
   ]
  },
  {
   "attachments": {},
   "cell_type": "markdown",
   "metadata": {},
   "source": [
    "4: Variables and Names"
   ]
  },
  {
   "cell_type": "code",
   "execution_count": 2,
   "metadata": {},
   "outputs": [
    {
     "name": "stdout",
     "output_type": "stream",
     "text": [
      "There are 100 cars available.\n",
      "There are only 30 drivers available.\n",
      "There will be 70 empty cars today.\n",
      "We can transport 120.0 people today.\n",
      "We have 90 to carpool today.\n",
      "We need to put about 3.0 in each car.\n"
     ]
    }
   ],
   "source": [
    "cars = 100\n",
    "space_in_a_car = 4.0\n",
    "drivers = 30\n",
    "passengers = 90\n",
    "cars_not_driven = cars - drivers\n",
    "cars_driven = drivers\n",
    "carpool_capacity = cars_driven * space_in_a_car\n",
    "average_passengers_per_car = passengers / cars_driven\n",
    "\n",
    "print(\"There are\", cars, \"cars available.\")\n",
    "print(\"There are only\", drivers, \"drivers available.\")\n",
    "print(\"There will be\", cars_not_driven, \"empty cars today.\")\n",
    "print(\"We can transport\", carpool_capacity, \"people today.\")\n",
    "print(\"We have\", passengers, \"to carpool today.\")\n",
    "print(\"We need to put about\", average_passengers_per_car, \"in each car.\")"
   ]
  },
  {
   "cell_type": "code",
   "execution_count": 3,
   "metadata": {},
   "outputs": [
    {
     "name": "stdout",
     "output_type": "stream",
     "text": [
      "There are 100 cars available.\n",
      "There are only 30 drivers available.\n",
      "There will be 70 empty cars today.\n",
      "We can transport 120.0 people today.\n",
      "We have 90 to carpool today.\n",
      "We need to put about 3.0 in each car.\n"
     ]
    }
   ],
   "source": [
    "# Kerjakan Study Drill 4) di sini\n",
    "#menuliskan variabel cars berjumlah 100\n",
    "cars = 100\n",
    "#menuliskan variabel space_in_a_car berjumlah 4.0\n",
    "space_in_a_car = 4.0\n",
    "#menuliskan variabel drivers berjumlah 30\n",
    "drivers = 30\n",
    "#menuliskan variabel passengers berjumlah 90\n",
    "passengers = 90\n",
    "#menyatakan variabel cars_not_driven = nilai variabel cars dikurangi nilai variabel drivers\n",
    "cars_not_driven = cars - drivers\n",
    "#menyatakan variabel cars_driven = jumlah nilai dari variabel drivers\n",
    "cars_driven = drivers\n",
    "#menyatakan variabel carpool_capacity = varibel cars_driven dikali variabel space_in_a_car\n",
    "carpool_capacity = cars_driven * space_in_a_car\n",
    "#menyatakan variabel average_passengers_per_car = variabel passengers dibagi dengan variabel cars_driven\n",
    "average_passengers_per_car = passengers / cars_driven\n",
    "#mem-print jumlah mobil yang tersedia\n",
    "print(\"There are\", cars, \"cars available.\")\n",
    "#mem-print jumlah pengemudi yang tersedia\n",
    "print(\"There are only\", drivers, \"drivers available.\")\n",
    "#mem-print jumlah mobil yang tidak dikemudikan hari ini\n",
    "print(\"There will be\", cars_not_driven, \"empty cars today.\")\n",
    "#mem-print jumlah kapasitas carpool atau kapasitas penumpang \n",
    "print(\"We can transport\", carpool_capacity, \"people today.\")\n",
    "#mem-print jumlah penumpang hari ini\n",
    "print(\"We have\", passengers, \"to carpool today.\")\n",
    "#mem-print rata-rata penumpang pada setiap mobil\n",
    "print(\"We need to put about\", average_passengers_per_car, \"in each car.\")\n"
   ]
  },
  {
   "attachments": {},
   "cell_type": "markdown",
   "metadata": {},
   "source": [
    "### Instruksi:\n",
    "1. Tulis ulang kode contoh di atasnya dengan sebelumnya artikan dengan command (#)"
   ]
  },
  {
   "attachments": {},
   "cell_type": "markdown",
   "metadata": {},
   "source": [
    "Contoh\n",
    "\n",
    "Tulis program Python yang dapat menghitung luas dari Lingkaran dengan jari-jari yang diinput!"
   ]
  },
  {
   "cell_type": "code",
   "execution_count": 4,
   "metadata": {},
   "outputs": [
    {
     "name": "stdout",
     "output_type": "stream",
     "text": [
      "The area of the circle with radius 49.0 is: 7542.9639612690935\n"
     ]
    }
   ],
   "source": [
    "from math import pi\n",
    "r = float(input (\"Input the radius of the circle : \"))\n",
    "print (\"The area of the circle with radius \" + str(r) + \" is: \" + str(pi * r**2))"
   ]
  },
  {
   "cell_type": "code",
   "execution_count": 5,
   "metadata": {},
   "outputs": [
    {
     "name": "stdout",
     "output_type": "stream",
     "text": [
      "Luas lingkaran dengan jari-jari 49.0 adalah: 7542.9639612690935\n"
     ]
    }
   ],
   "source": [
    "# import pi dari math library\n",
    "from math import pi\n",
    "\n",
    "# membuat variabel untuk user menginputkan nilai jari-jari\n",
    "r = float(input (\"Masukkan jari-jari lingkaran: \"))\n",
    "\n",
    "# Mem-print nilai luas lingkaran sekaligus menghitungnya\n",
    "print (\"Luas lingkaran dengan jari-jari \" + str(r) + \" adalah: \" + str(pi * r**2))"
   ]
  },
  {
   "attachments": {},
   "cell_type": "markdown",
   "metadata": {},
   "source": [
    "5: Tulis program Python untuk tambah, kurang, kali, dan bagi dari dua buah pecahan"
   ]
  },
  {
   "cell_type": "code",
   "execution_count": 6,
   "metadata": {},
   "outputs": [
    {
     "name": "stdout",
     "output_type": "stream",
     "text": [
      "2/3 + 3/7 = 23/21\n",
      "2/3 - 3/7 = 5/21\n",
      "2/3 * 3/7 = 2/7\n",
      "2/3 / 3/7 = 14/9\n"
     ]
    }
   ],
   "source": [
    "import fractions\n",
    "\n",
    "f1 = fractions.Fraction(2, 3)\n",
    "f2 = fractions.Fraction(3, 7)\n",
    "\n",
    "print('{} + {} = {}'.format(f1, f2, f1 + f2))\n",
    "print('{} - {} = {}'.format(f1, f2, f1 - f2))\n",
    "print('{} * {} = {}'.format(f1, f2, f1 * f2))\n",
    "print('{} / {} = {}'.format(f1, f2, f1 / f2))"
   ]
  },
  {
   "cell_type": "code",
   "execution_count": 7,
   "metadata": {},
   "outputs": [
    {
     "name": "stdout",
     "output_type": "stream",
     "text": [
      "2/3 + 3/7 = 23/21\n",
      "2/3 - 3/7 = 5/21\n",
      "2/3 * 3/7 = 2/7\n",
      "2/3 / 3/7 = 14/9\n"
     ]
    }
   ],
   "source": [
    "# Kerjakan Study Drill 5 di sini\n",
    "#import pecahan\n",
    "import fractions\n",
    "#menuliskan variabel f1\n",
    "f1 = fractions.Fraction(2, 3)\n",
    "#menuliskan variabel f2\n",
    "f2 = fractions.Fraction(3, 7)\n",
    "#mem-print pertambahan f1+f2 sekaligus menghitungnya\n",
    "print('{} + {} = {}'.format(f1, f2, f1 + f2))\n",
    "#mem-print pengurangan f1-f2 sekaligus menghitungnya\n",
    "print('{} - {} = {}'.format(f1, f2, f1 - f2))\n",
    "#mem-print perkalian f1*f2 sekaligus menghitungnya\n",
    "print('{} * {} = {}'.format(f1, f2, f1 * f2))\n",
    "#mem-print pembagian f1/f2 sekaligus menghitungnya\n",
    "print('{} / {} = {}'.format(f1, f2, f1 / f2))"
   ]
  },
  {
   "attachments": {},
   "cell_type": "markdown",
   "metadata": {},
   "source": [
    "6: Tulis program Python yang akan menghitung luas dari segitiga dengan alas dan tinggi yang kamu inputkan!"
   ]
  },
  {
   "cell_type": "code",
   "execution_count": 8,
   "metadata": {},
   "outputs": [
    {
     "name": "stdout",
     "output_type": "stream",
     "text": [
      "luas =  350.0\n"
     ]
    }
   ],
   "source": [
    "b = int(input(\"Input alas : \"))\n",
    "h = int(input(\"Input tinggi : \"))\n",
    "\n",
    "luas = b*h/2\n",
    "\n",
    "print(\"luas = \", luas)"
   ]
  },
  {
   "cell_type": "code",
   "execution_count": 9,
   "metadata": {},
   "outputs": [
    {
     "name": "stdout",
     "output_type": "stream",
     "text": [
      "luas =  350.0\n"
     ]
    }
   ],
   "source": [
    "# Kerjakan Study Drill 6 di sini\n",
    "#menuliskan variabel b untuk user menginputkan nilai alas segitiga\n",
    "b = int(input(\"Input alas : \"))\n",
    "#menuliskan variabel h untuk user menginputkan nilai tinggi segitiga\n",
    "h = int(input(\"Input tinggi : \"))\n",
    "#membuat rumus luas segitiga\n",
    "luas = b*h/2\n",
    "#mem-print nilai luas segitiga sekaligus menghitungnya\n",
    "print(\"luas = \", luas)\n"
   ]
  },
  {
   "attachments": {},
   "cell_type": "markdown",
   "metadata": {},
   "source": [
    "7: Tulis program Python yang dapat menghitung luas permukaan dan volume dari Tabung!"
   ]
  },
  {
   "cell_type": "code",
   "execution_count": 10,
   "metadata": {},
   "outputs": [
    {
     "name": "stdout",
     "output_type": "stream",
     "text": [
      "Volume tabung adalah:  1178.5714285714284\n",
      "Luas permukaan tabung adalah:  628.5714285714286\n"
     ]
    }
   ],
   "source": [
    "pi=22/7\n",
    "tinggi = float(input('Tinggi dari Tabung: '))\n",
    "jarijari = float(input('Jari-jari dari Tabung: '))\n",
    "volume = pi * jarijari * jarijari * tinggi\n",
    "lp = ((2*pi*jarijari) * tinggi) + ((pi*jarijari**2)*2)\n",
    "print(\"Volume tabung adalah: \", volume)\n",
    "print(\"Luas permukaan tabung adalah: \", lp)"
   ]
  },
  {
   "cell_type": "code",
   "execution_count": 11,
   "metadata": {},
   "outputs": [
    {
     "name": "stdout",
     "output_type": "stream",
     "text": [
      "Volume tabung adalah:  1178.5714285714284\n",
      "Luas permukaan tabung adalah:  628.5714285714286\n"
     ]
    }
   ],
   "source": [
    "# Kerjakan Study Drill 7 di sini\n",
    "#menuliskan variabel pi=22/7\n",
    "pi=22/7\n",
    "#membuat variabel untuk user menginputkan nilai tinggi tabung\n",
    "tinggi = float(input('Tinggi dari Tabung: '))\n",
    "#membuat variabel untuk user menginputkan nilai jari-jari tabung\n",
    "jarijari = float(input('Jari-jari dari Tabung: '))\n",
    "#membuat rumus volume tabung\n",
    "volume = pi * jarijari * jarijari * tinggi\n",
    "#membuat rumus luas permukaan tabung\n",
    "lp = ((2*pi*jarijari) * tinggi) + ((pi*jarijari**2)*2)\n",
    "#mem-print nilai volume tabung sekaligus menghitungnya\n",
    "print(\"Volume tabung adalah: \", volume)\n",
    "#mem-print nilai luas permukaan tabung sekaligus menghitungnya\n",
    "print(\"Luas permukaan tabung adalah: \", lp)"
   ]
  },
  {
   "attachments": {},
   "cell_type": "markdown",
   "metadata": {},
   "source": [
    "8: Tulis program Python untuk mendapatkan akar pangkat dua dan pangkat dari nilai desimal yang diberikan!"
   ]
  },
  {
   "cell_type": "code",
   "execution_count": 12,
   "metadata": {},
   "outputs": [
    {
     "name": "stdout",
     "output_type": "stream",
     "text": [
      "Akar pangkat dua dari 1.44 adalah : 1.2\n",
      "Pangkat dua dari 1.44  adalah : 4.220695816996552825673328929\n"
     ]
    }
   ],
   "source": [
    "from decimal import *\n",
    "x = Decimal('1.44')\n",
    "print(\"Akar pangkat dua dari\",x, \"adalah :\", x.sqrt())\n",
    "print(\"Pangkat dua dari\",x, \" adalah :\", x.exp())\n"
   ]
  },
  {
   "cell_type": "code",
   "execution_count": 13,
   "metadata": {},
   "outputs": [
    {
     "name": "stdout",
     "output_type": "stream",
     "text": [
      "Akar pangkat dua dari 1.44 adalah : 1.2\n",
      "Pangkat dua dari 1.44  adalah : 4.220695816996552825673328929\n"
     ]
    }
   ],
   "source": [
    "# Kerjakan Study Drill 8 di sini\n",
    "#import * dari decimal library\n",
    "from decimal import *\n",
    "#membuat variabel bahwa x adalah bilangan decimal 1.44\n",
    "x = Decimal('1.44')\n",
    "#mem-print nilai akar pangkat dua dari x sekaligus menghitungnya \n",
    "print(\"Akar pangkat dua dari\",x, \"adalah :\", x.sqrt())\n",
    "#mem-print nilai pangkat dua dari x sekaligus menghitungnya\n",
    "print(\"Pangkat dua dari\",x, \" adalah :\", x.exp())"
   ]
  },
  {
   "attachments": {},
   "cell_type": "markdown",
   "metadata": {},
   "source": [
    "9: Tulis program Python yang dapat menentukan apakah benar bilangan tersebut LEBIH BESAR dari 4^4 DAN jika di-MODULUS-kan 34 hasilnya adalah 4!"
   ]
  },
  {
   "cell_type": "code",
   "execution_count": 14,
   "metadata": {},
   "outputs": [
    {
     "name": "stdout",
     "output_type": "stream",
     "text": [
      "Original Integer:\n",
      "922\n",
      "Apakah benar integer tersebut lebih besar dari 4^4 dan hasilnya 4 jika di-mod-kan dengan 34:\n",
      "True\n",
      "\n",
      "Original Integer:\n",
      "914\n",
      "Apakah benar integer tersebut lebih besar dari 4^4 dan hasilnya 4 jika di-mod-kan dengan 34:\n",
      "False\n",
      "\n",
      "Original Integer:\n",
      "854\n",
      "Apakah benar integer tersebut lebih besar dari 4^4 dan hasilnya 4 jika di-mod-kan dengan 34:\n",
      "True\n"
     ]
    }
   ],
   "source": [
    "def test(n):\n",
    "    return n % 34 == 4 and n > 4 ** 4\n",
    "\n",
    "n = 922\n",
    "print(\"Original Integer:\")\n",
    "print(n)\n",
    "print(\"Apakah benar integer tersebut lebih besar dari 4^4 dan hasilnya 4 jika di-mod-kan dengan 34:\")\n",
    "\n",
    "print(test(n))\n",
    "\n",
    "n = 914\n",
    "print(\"\\nOriginal Integer:\")\n",
    "print(n)\n",
    "print(\"Apakah benar integer tersebut lebih besar dari 4^4 dan hasilnya 4 jika di-mod-kan dengan 34:\")\n",
    "print(test(n))\n",
    "\n",
    "n = 854\n",
    "print(\"\\nOriginal Integer:\")\n",
    "print(n)\n",
    "print(\"Apakah benar integer tersebut lebih besar dari 4^4 dan hasilnya 4 jika di-mod-kan dengan 34:\")\n",
    "print(test(n))"
   ]
  },
  {
   "cell_type": "code",
   "execution_count": 15,
   "metadata": {},
   "outputs": [
    {
     "name": "stdout",
     "output_type": "stream",
     "text": [
      "Original Integer:\n",
      "922\n",
      "Apakah benar integer tersebut lebih besar dari 4^4 dan hasilnya 4 jika di-mod-kan dengan 34:\n",
      "True\n",
      "\n",
      "Original Integer:\n",
      "914\n",
      "Apakah benar integer tersebut lebih besar dari 4^4 dan hasilnya 4 jika di-mod-kan dengan 34:\n",
      "False\n",
      "\n",
      "Original Integer:\n",
      "854\n",
      "Apakah benar integer tersebut lebih besar dari 4^4 dan hasilnya 4 jika di-mod-kan dengan 34:\n",
      "True\n"
     ]
    }
   ],
   "source": [
    "# Kerjakan Study Drill 9 di sini\n",
    "## Kalian bisa coba membuktikan dengan menghitung hasil dari 4^4 dan mod 34 dari bilangan integernya\n",
    "#mendefinisikan fungsi 'test' saat dimasukkan variabel n\n",
    "def test(n):\n",
    "    return n % 34 == 4 and n > 4 ** 4\n",
    "#menuliskan variabel n adalah 922\n",
    "n = 922\n",
    "#mem-print tulisan \"Original Interger:\"\n",
    "print(\"Original Integer:\")\n",
    "#mem-print variabel n dari n = 922\n",
    "print(n)\n",
    "#mem-print tulisan \"Apakah benar integer tersebut lebih besar dari 4^4 dan hasilnya 4 jika di-mod-kan dengan 34:\"\n",
    "print(\"Apakah benar integer tersebut lebih besar dari 4^4 dan hasilnya 4 jika di-mod-kan dengan 34:\")\n",
    "\n",
    "#mem-print hasil test dari variabel n = 922\n",
    "print(test(n))\n",
    "\n",
    "#menuliskan variabel n adalah 914\n",
    "n = 914\n",
    "#mem-print tulisan \"Original Interger\"\n",
    "print(\"\\nOriginal Integer:\")\n",
    "#mem-print variabel n dari n = 914\n",
    "print(n)\n",
    "#mem-print tulisan \"Apakah benar interger tersebut lebih besar dari 4^4 jika di-mod-kan dengan 34:\"\n",
    "print(\"Apakah benar integer tersebut lebih besar dari 4^4 dan hasilnya 4 jika di-mod-kan dengan 34:\")\n",
    "#mem-print hasil test dari variabel n = 914\n",
    "print(test(n))\n",
    "\n",
    "#menuliskan variabel n = 854\n",
    "n = 854\n",
    "#mem-print tulisan \"Original Interger\"\n",
    "print(\"\\nOriginal Integer:\")\n",
    "#mem-print variabel n dari n = 856\n",
    "print(n)\n",
    "#mem-print tulisan \"Apakah benar integer tersebut lebih besar dari 4^4 dan hasilnya 4 jika di-mod-kan dengan 34:\"\n",
    "print(\"Apakah benar integer tersebut lebih besar dari 4^4 dan hasilnya 4 jika di-mod-kan dengan 34:\")\n",
    "#mem-print hasil test dari variabel n = 854\n",
    "print(test(n))"
   ]
  },
  {
   "attachments": {},
   "cell_type": "markdown",
   "metadata": {},
   "source": [
    "10: Tulis program Python yang dapat menyimpan nama depan dan nama belakang user dan mem-print-nya dengan dibalik antara keduanya!\n"
   ]
  },
  {
   "cell_type": "code",
   "execution_count": 16,
   "metadata": {},
   "outputs": [
    {
     "name": "stdout",
     "output_type": "stream",
     "text": [
      "Hello  azzahra raisa\n"
     ]
    }
   ],
   "source": [
    "fname = input(\"Input your First Name : \")\n",
    "lname = input(\"Input your Last Name : \")\n",
    "print (\"Hello  \" + lname + \" \" + fname)"
   ]
  },
  {
   "cell_type": "code",
   "execution_count": 17,
   "metadata": {},
   "outputs": [
    {
     "name": "stdout",
     "output_type": "stream",
     "text": [
      "Hello  azzahra raisa\n"
     ]
    }
   ],
   "source": [
    "# Kerjakan Study Drill 10 di sini\n",
    "#membuat variabel untuk user menginputkan first name\n",
    "fname = input(\"Input your First Name : \")\n",
    "#membuat variabel untuk user menginputkan last name\n",
    "lname = input(\"Input your Last Name : \")\n",
    "#mem-print kata halo sekaligus last name lalu first name \n",
    "print (\"Hello  \" + lname + \" \" + fname)\n"
   ]
  }
 ],
 "metadata": {
  "kernelspec": {
   "display_name": "Python 3",
   "language": "python",
   "name": "python3"
  },
  "language_info": {
   "codemirror_mode": {
    "name": "ipython",
    "version": 3
   },
   "file_extension": ".py",
   "mimetype": "text/x-python",
   "name": "python",
   "nbconvert_exporter": "python",
   "pygments_lexer": "ipython3",
   "version": "3.11.1"
  },
  "orig_nbformat": 4
 },
 "nbformat": 4,
 "nbformat_minor": 2
}
